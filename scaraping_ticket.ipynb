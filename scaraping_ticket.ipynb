{
 "cells": [
  {
   "cell_type": "markdown",
   "id": "2fc80269",
   "metadata": {},
   "source": [
    "# Install Package"
   ]
  },
  {
   "cell_type": "code",
   "execution_count": 35,
   "id": "4eebac5a",
   "metadata": {},
   "outputs": [],
   "source": [
    "#!pip install selenium\n",
    "#!brew cask install chromedriver (home dirで実行)\n",
    "#!pip install webdriver_manager"
   ]
  },
  {
   "cell_type": "code",
   "execution_count": 129,
   "id": "5bb6aa68",
   "metadata": {},
   "outputs": [],
   "source": [
    "from selenium import webdriver\n",
    "from selenium.webdriver.chrome.options import Options\n",
    "from selenium.webdriver.support.select import Select\n",
    "from selenium.webdriver.common.by import By\n",
    "from selenium.webdriver.common.keys import Keys\n",
    "from selenium.webdriver.common.alert import Alert\n",
    "from selenium.webdriver.support.ui import WebDriverWait\n",
    "from selenium.webdriver.support import expected_conditions as EC\n",
    "from selenium.common.exceptions import TimeoutException\n",
    "from selenium.webdriver.common.action_chains import ActionChains\n",
    "\n",
    "import time\n",
    "import requests\n",
    "import sys\n",
    "import datetime\n",
    "import signal\n",
    "import os"
   ]
  },
  {
   "cell_type": "code",
   "execution_count": 130,
   "id": "1a53311d",
   "metadata": {},
   "outputs": [],
   "source": [
    "## 取得したい日付け\n",
    "get_month   = \"li[2]\"\n",
    "get_weekend = \"tr[1]\""
   ]
  },
  {
   "cell_type": "markdown",
   "id": "c4a1b4cb",
   "metadata": {},
   "source": [
    "get_month:\n",
    "チケットの月を指定する．\"li[1]\"は今月．来月は\"li[2]\"とindexが増加\n",
    "\n",
    "get_weekend:\n",
    "チケットの第何週の曜日かを指定する．\"tr[1]\"は月の第1週目．第2週目は\"li[2]\"とindexが増加\n",
    "\n",
    "日付けは基本土日のどちらかを取得．<br>\n",
    "他曜日を取得した場合は，[@id=\"searchCalendar\"] の取得部分の\"td[2]\"のindexを変更すれば可能．\"td[1]\"~\"td[7]\"が月曜日〜日曜日に対応．"
   ]
  },
  {
   "cell_type": "code",
   "execution_count": 140,
   "id": "fe5f4782",
   "metadata": {},
   "outputs": [],
   "source": [
    "def PssportJudgeAndCilck(day, when, notbuy_xpath, click_xpath):\n",
    "    try:\n",
    "        NotBuyElement = driver.find_element_by_xpath(notbuy_xpath)\n",
    "        print(NotBuyElement.text)\n",
    "        if NotBuyElement.text != '現在、販売していません':\n",
    "            print(\"Now on Sales!!! Hurry Up!!!!!\")\n",
    "            driver.find_element_by_xpath(click_xpath).click()\n",
    "            return None\n",
    "        else:\n",
    "            print(NotBuyElement.text)\n",
    "            return 0\n",
    "    except:\n",
    "        print(\"現在、販売していません\")\n",
    "        return 0"
   ]
  },
  {
   "cell_type": "code",
   "execution_count": 141,
   "id": "bebe6eaa",
   "metadata": {},
   "outputs": [],
   "source": [
    "def login():\n",
    "    #起動\n",
    "    driver.get(\"https://reserve.tokyodisneyresort.jp/\")\n",
    "    time.sleep(2)\n",
    "    \n",
    "    #ログインクリック\n",
    "    driver.find_element_by_xpath('//*[@id=\"header\"]/div/ul[2]/li/a').click()\n",
    "    time.sleep(2)\n",
    "\n",
    "    #ログイン\n",
    "    LoginId = driver.find_element_by_xpath('//*[@id=\"_userId\"]')\n",
    "    LoginId.send_keys(\"windows.onepeace@gmail.com\")\n",
    "    password = driver.find_element_by_xpath('//*[@id=\"_password\"]')\n",
    "    password.send_keys(\"xoqjaM-jynmy6-biskur\")\n",
    "    driver.find_element_by_xpath('//*[@id=\"_loginConection\"]/form/ul/li/button').click()\n",
    "    time.sleep(2)\n",
    "    return"
   ]
  },
  {
   "cell_type": "code",
   "execution_count": 158,
   "id": "d4202d2c",
   "metadata": {},
   "outputs": [],
   "source": [
    "def buy_ticket():\n",
    "    #調査回数をカウントする変数\n",
    "    RandNum1day = 0\n",
    "    SeaNum2day = 0\n",
    "\n",
    "    #販売中であればbreakしてその画面のままにする\n",
    "    while True:\n",
    "        time.sleep(.5)\n",
    "        \n",
    "        # 土曜日\n",
    "        # 日付のクリック（ホバーしてクリック、１秒の待機）\n",
    "        ActionHover = ActionChains(driver)\n",
    "        ActionHover.move_to_element(driver.find_element_by_xpath(\\\n",
    "        f'//*[@id=\"searchCalendar\"]/div/div/ul/div/div/{get_month}/div/table/tbody/{get_weekend}/td[6]/a')).perform()\n",
    "        driver.find_element_by_xpath(\\\n",
    "        f'//*[@id=\"searchCalendar\"]/div/div/ul/div/div/{get_month}/div/table/tbody/{get_weekend}/td[6]/a').click()\n",
    "        time.sleep(1)\n",
    "\n",
    "        #「自宅でプリントアウト」のクリック\n",
    "        driver.find_element_by_xpath('//*[@id=\"searchEticket\"]').click()\n",
    "        time.sleep(1)\n",
    "        \n",
    "        \n",
    "        #青四角クリックができればクリック、できなければ次のアクションへ\n",
    "        Rand1dayElements = PssportJudgeAndCilck(1, '1day', '//*[@id=\"searchResultList\"]/ul/li[1]/div/p[3]',\\\n",
    "        '//*[@id=\"searchResultList\"]/ul/li[1]/div')\n",
    "        Rand1030toElements = PssportJudgeAndCilck(1, '10:30-', '//*[@id=\"searchResultList\"]/ul/li[2]/div/p[3]', \\\n",
    "        '//*[@id=\"searchResultList\"]/ul/li[2]/div')\n",
    "        if Rand1dayElements==None or Rand1030toElements==None:\n",
    "            print(\"day1\")\n",
    "            break\n",
    "\n",
    "        #確認用出力\n",
    "        RandNum1day += 1\n",
    "        print(f'チケット売り切れ中  :', RandNum1day, \"周目\", datetime.datetime.now())\n",
    "        print(Rand1dayElements, Rand1030toElements)\n",
    "\n",
    "\n",
    "        time.sleep(2)\n",
    "        \n",
    "        \n",
    "        # 日曜日\n",
    "        # 日付のクリック\n",
    "        ActionHover = ActionChains(driver)\n",
    "        ActionHover.move_to_element(driver.find_element_by_xpath(\\\n",
    "        f'//*[@id=\"searchCalendar\"]/div/div/ul/div/div/{get_month}/div/table/tbody/{get_weekend}/td[7]/a')).perform()\n",
    "        driver.find_element_by_xpath(\\\n",
    "        f'//*[@id=\"searchCalendar\"]/div/div/ul/div/div/{get_month}/div/table/tbody/{get_weekend}/td[7]/a').click()\n",
    "        time.sleep(1)\n",
    "\n",
    "\n",
    "        #「自宅でプリントアウト」のクリック\n",
    "        driver.find_element_by_xpath('//*[@id=\"searchEticket\"]').click()\n",
    "        time.sleep(1)\n",
    "\n",
    "        # もしクリックができればクリックとライン通知\n",
    "        Sea1dayElements = PssportJudgeAndCilck(2, '1day', '//*[@id=\"searchResultList\"]/ul/li[1]/div/p[3]', \\\n",
    "        '//*[@id=\"searchResultList\"]/ul/li[1]/div')\n",
    "        Sea1030toElements = PssportJudgeAndCilck(2, '10:30-', '//*[@id=\"searchResultList\"]/ul/li[2]/div/p[3]', \\\n",
    "        '//*[@id=\"searchResultList\"]/ul/li[2]/div')\n",
    "        if Sea1dayElements == None or Sea1030toElements == None:\n",
    "            print(\"day2\")\n",
    "            break\n",
    "\n",
    "        # 確認用出力\n",
    "        SeaNum2day += 1\n",
    "        print('チケット売り切れ中  :', SeaNum2day, \"周目\", datetime.datetime.now())\n",
    "        print(Sea1dayElements, Sea1030toElements)\n",
    "\n",
    "        # 確認用出力総合\n",
    "        if(SeaNum2day%5 == 0):\n",
    "            line_ntfy_kakuninn(SeaNum2day*2)\n",
    "    return True"
   ]
  },
  {
   "cell_type": "code",
   "execution_count": 159,
   "id": "aa63fc4b",
   "metadata": {},
   "outputs": [
    {
     "name": "stderr",
     "output_type": "stream",
     "text": [
      "/var/folders/2s/3stzp5kn1wl8tkq0_v9d57940000gp/T/ipykernel_14500/559347726.py:11: DeprecationWarning: executable_path has been deprecated, please pass in a Service object\n",
      "  driver = webdriver.Chrome(executable_path=driber_path)\n",
      "/var/folders/2s/3stzp5kn1wl8tkq0_v9d57940000gp/T/ipykernel_14500/4288754393.py:13: DeprecationWarning: find_element_by_* commands are deprecated. Please use find_element() instead\n",
      "  ActionHover.move_to_element(driver.find_element_by_xpath(\\\n"
     ]
    },
    {
     "ename": "NoSuchElementException",
     "evalue": "Message: no such element: Unable to locate element: {\"method\":\"xpath\",\"selector\":\"//*[@id=\"searchCalendar\"]/div/div/ul/div/div/li[2]/div/table/tbody/tr[1]/td[6]/a\"}\n  (Session info: chrome=95.0.4638.54)\nStacktrace:\n0   chromedriver                        0x000000010bb4dc99 __gxx_personality_v0 + 579209\n1   chromedriver                        0x000000010bad95f3 __gxx_personality_v0 + 102371\n2   chromedriver                        0x000000010b69f288 chromedriver + 172680\n3   chromedriver                        0x000000010b6d425c chromedriver + 389724\n4   chromedriver                        0x000000010b706104 chromedriver + 594180\n5   chromedriver                        0x000000010b6f13cd chromedriver + 508877\n6   chromedriver                        0x000000010b703eab chromedriver + 585387\n7   chromedriver                        0x000000010b6f1693 chromedriver + 509587\n8   chromedriver                        0x000000010b6c7b7e chromedriver + 338814\n9   chromedriver                        0x000000010b6c8ea5 chromedriver + 343717\n10  chromedriver                        0x000000010bb0977f __gxx_personality_v0 + 299375\n11  chromedriver                        0x000000010bb2068a __gxx_personality_v0 + 393338\n12  chromedriver                        0x000000010bb268eb __gxx_personality_v0 + 418523\n13  chromedriver                        0x000000010bb21a2a __gxx_personality_v0 + 398362\n14  chromedriver                        0x000000010bafe34c __gxx_personality_v0 + 253244\n15  chromedriver                        0x000000010bb3dc48 __gxx_personality_v0 + 513592\n16  chromedriver                        0x000000010bb3ddd1 __gxx_personality_v0 + 513985\n17  chromedriver                        0x000000010bb550c8 __gxx_personality_v0 + 608952\n18  libsystem_pthread.dylib             0x00007fff7350d305 _pthread_body + 126\n19  libsystem_pthread.dylib             0x00007fff7351026f _pthread_start + 70\n20  libsystem_pthread.dylib             0x00007fff7350c415 thread_start + 13\n",
     "output_type": "error",
     "traceback": [
      "\u001b[0;31m---------------------------------------------------------------------------\u001b[0m",
      "\u001b[0;31mNoSuchElementException\u001b[0m                    Traceback (most recent call last)",
      "\u001b[0;32m/var/folders/2s/3stzp5kn1wl8tkq0_v9d57940000gp/T/ipykernel_14500/559347726.py\u001b[0m in \u001b[0;36m<module>\u001b[0;34m\u001b[0m\n\u001b[1;32m     13\u001b[0m \u001b[0;34m\u001b[0m\u001b[0m\n\u001b[1;32m     14\u001b[0m \u001b[0mdriver\u001b[0m\u001b[0;34m.\u001b[0m\u001b[0mget\u001b[0m\u001b[0;34m(\u001b[0m\u001b[0;34m\"https://reserve.tokyodisneyresort.jp/ticket/search/?route=1\"\u001b[0m\u001b[0;34m)\u001b[0m\u001b[0;34m\u001b[0m\u001b[0;34m\u001b[0m\u001b[0m\n\u001b[0;32m---> 15\u001b[0;31m \u001b[0mcheck\u001b[0m \u001b[0;34m=\u001b[0m \u001b[0mbuy_ticket\u001b[0m\u001b[0;34m(\u001b[0m\u001b[0;34m)\u001b[0m\u001b[0;34m\u001b[0m\u001b[0;34m\u001b[0m\u001b[0m\n\u001b[0m\u001b[1;32m     16\u001b[0m \u001b[0;32mif\u001b[0m \u001b[0mcheck\u001b[0m\u001b[0;34m:\u001b[0m\u001b[0;34m\u001b[0m\u001b[0;34m\u001b[0m\u001b[0m\n\u001b[1;32m     17\u001b[0m     \u001b[0mprint\u001b[0m\u001b[0;34m(\u001b[0m\u001b[0;34m\"yeah\"\u001b[0m\u001b[0;34m)\u001b[0m\u001b[0;34m\u001b[0m\u001b[0;34m\u001b[0m\u001b[0m\n",
      "\u001b[0;32m/var/folders/2s/3stzp5kn1wl8tkq0_v9d57940000gp/T/ipykernel_14500/4288754393.py\u001b[0m in \u001b[0;36mbuy_ticket\u001b[0;34m()\u001b[0m\n\u001b[1;32m     11\u001b[0m         \u001b[0;31m# 日付のクリック（ホバーしてクリック、１秒の待機）\u001b[0m\u001b[0;34m\u001b[0m\u001b[0;34m\u001b[0m\u001b[0;34m\u001b[0m\u001b[0m\n\u001b[1;32m     12\u001b[0m         \u001b[0mActionHover\u001b[0m \u001b[0;34m=\u001b[0m \u001b[0mActionChains\u001b[0m\u001b[0;34m(\u001b[0m\u001b[0mdriver\u001b[0m\u001b[0;34m)\u001b[0m\u001b[0;34m\u001b[0m\u001b[0;34m\u001b[0m\u001b[0m\n\u001b[0;32m---> 13\u001b[0;31m         ActionHover.move_to_element(driver.find_element_by_xpath(\\\n\u001b[0m\u001b[1;32m     14\u001b[0m         f'//*[@id=\"searchCalendar\"]/div/div/ul/div/div/{get_month}/div/table/tbody/{get_weekend}/td[6]/a')).perform()\n\u001b[1;32m     15\u001b[0m         driver.find_element_by_xpath(\\\n",
      "\u001b[0;32m/Library/Frameworks/Python.framework/Versions/3.9/lib/python3.9/site-packages/selenium/webdriver/remote/webdriver.py\u001b[0m in \u001b[0;36mfind_element_by_xpath\u001b[0;34m(self, xpath)\u001b[0m\n\u001b[1;32m    512\u001b[0m             \u001b[0mstacklevel\u001b[0m\u001b[0;34m=\u001b[0m\u001b[0;36m2\u001b[0m\u001b[0;34m,\u001b[0m\u001b[0;34m\u001b[0m\u001b[0;34m\u001b[0m\u001b[0m\n\u001b[1;32m    513\u001b[0m         )\n\u001b[0;32m--> 514\u001b[0;31m         \u001b[0;32mreturn\u001b[0m \u001b[0mself\u001b[0m\u001b[0;34m.\u001b[0m\u001b[0mfind_element\u001b[0m\u001b[0;34m(\u001b[0m\u001b[0mby\u001b[0m\u001b[0;34m=\u001b[0m\u001b[0mBy\u001b[0m\u001b[0;34m.\u001b[0m\u001b[0mXPATH\u001b[0m\u001b[0;34m,\u001b[0m \u001b[0mvalue\u001b[0m\u001b[0;34m=\u001b[0m\u001b[0mxpath\u001b[0m\u001b[0;34m)\u001b[0m\u001b[0;34m\u001b[0m\u001b[0;34m\u001b[0m\u001b[0m\n\u001b[0m\u001b[1;32m    515\u001b[0m \u001b[0;34m\u001b[0m\u001b[0m\n\u001b[1;32m    516\u001b[0m     \u001b[0;32mdef\u001b[0m \u001b[0mfind_elements_by_xpath\u001b[0m\u001b[0;34m(\u001b[0m\u001b[0mself\u001b[0m\u001b[0;34m,\u001b[0m \u001b[0mxpath\u001b[0m\u001b[0;34m)\u001b[0m \u001b[0;34m->\u001b[0m \u001b[0mWebElement\u001b[0m\u001b[0;34m:\u001b[0m\u001b[0;34m\u001b[0m\u001b[0;34m\u001b[0m\u001b[0m\n",
      "\u001b[0;32m/Library/Frameworks/Python.framework/Versions/3.9/lib/python3.9/site-packages/selenium/webdriver/remote/webdriver.py\u001b[0m in \u001b[0;36mfind_element\u001b[0;34m(self, by, value)\u001b[0m\n\u001b[1;32m   1236\u001b[0m             \u001b[0mvalue\u001b[0m \u001b[0;34m=\u001b[0m \u001b[0;34m'[name=\"%s\"]'\u001b[0m \u001b[0;34m%\u001b[0m \u001b[0mvalue\u001b[0m\u001b[0;34m\u001b[0m\u001b[0;34m\u001b[0m\u001b[0m\n\u001b[1;32m   1237\u001b[0m \u001b[0;34m\u001b[0m\u001b[0m\n\u001b[0;32m-> 1238\u001b[0;31m         return self.execute(Command.FIND_ELEMENT, {\n\u001b[0m\u001b[1;32m   1239\u001b[0m             \u001b[0;34m'using'\u001b[0m\u001b[0;34m:\u001b[0m \u001b[0mby\u001b[0m\u001b[0;34m,\u001b[0m\u001b[0;34m\u001b[0m\u001b[0;34m\u001b[0m\u001b[0m\n\u001b[1;32m   1240\u001b[0m             'value': value})['value']\n",
      "\u001b[0;32m/Library/Frameworks/Python.framework/Versions/3.9/lib/python3.9/site-packages/selenium/webdriver/remote/webdriver.py\u001b[0m in \u001b[0;36mexecute\u001b[0;34m(self, driver_command, params)\u001b[0m\n\u001b[1;32m    416\u001b[0m         \u001b[0mresponse\u001b[0m \u001b[0;34m=\u001b[0m \u001b[0mself\u001b[0m\u001b[0;34m.\u001b[0m\u001b[0mcommand_executor\u001b[0m\u001b[0;34m.\u001b[0m\u001b[0mexecute\u001b[0m\u001b[0;34m(\u001b[0m\u001b[0mdriver_command\u001b[0m\u001b[0;34m,\u001b[0m \u001b[0mparams\u001b[0m\u001b[0;34m)\u001b[0m\u001b[0;34m\u001b[0m\u001b[0;34m\u001b[0m\u001b[0m\n\u001b[1;32m    417\u001b[0m         \u001b[0;32mif\u001b[0m \u001b[0mresponse\u001b[0m\u001b[0;34m:\u001b[0m\u001b[0;34m\u001b[0m\u001b[0;34m\u001b[0m\u001b[0m\n\u001b[0;32m--> 418\u001b[0;31m             \u001b[0mself\u001b[0m\u001b[0;34m.\u001b[0m\u001b[0merror_handler\u001b[0m\u001b[0;34m.\u001b[0m\u001b[0mcheck_response\u001b[0m\u001b[0;34m(\u001b[0m\u001b[0mresponse\u001b[0m\u001b[0;34m)\u001b[0m\u001b[0;34m\u001b[0m\u001b[0;34m\u001b[0m\u001b[0m\n\u001b[0m\u001b[1;32m    419\u001b[0m             response['value'] = self._unwrap_value(\n\u001b[1;32m    420\u001b[0m                 response.get('value', None))\n",
      "\u001b[0;32m/Library/Frameworks/Python.framework/Versions/3.9/lib/python3.9/site-packages/selenium/webdriver/remote/errorhandler.py\u001b[0m in \u001b[0;36mcheck_response\u001b[0;34m(self, response)\u001b[0m\n\u001b[1;32m    241\u001b[0m                 \u001b[0malert_text\u001b[0m \u001b[0;34m=\u001b[0m \u001b[0mvalue\u001b[0m\u001b[0;34m[\u001b[0m\u001b[0;34m'alert'\u001b[0m\u001b[0;34m]\u001b[0m\u001b[0;34m.\u001b[0m\u001b[0mget\u001b[0m\u001b[0;34m(\u001b[0m\u001b[0;34m'text'\u001b[0m\u001b[0;34m)\u001b[0m\u001b[0;34m\u001b[0m\u001b[0;34m\u001b[0m\u001b[0m\n\u001b[1;32m    242\u001b[0m             \u001b[0;32mraise\u001b[0m \u001b[0mexception_class\u001b[0m\u001b[0;34m(\u001b[0m\u001b[0mmessage\u001b[0m\u001b[0;34m,\u001b[0m \u001b[0mscreen\u001b[0m\u001b[0;34m,\u001b[0m \u001b[0mstacktrace\u001b[0m\u001b[0;34m,\u001b[0m \u001b[0malert_text\u001b[0m\u001b[0;34m)\u001b[0m  \u001b[0;31m# type: ignore[call-arg]  # mypy is not smart enough here\u001b[0m\u001b[0;34m\u001b[0m\u001b[0;34m\u001b[0m\u001b[0m\n\u001b[0;32m--> 243\u001b[0;31m         \u001b[0;32mraise\u001b[0m \u001b[0mexception_class\u001b[0m\u001b[0;34m(\u001b[0m\u001b[0mmessage\u001b[0m\u001b[0;34m,\u001b[0m \u001b[0mscreen\u001b[0m\u001b[0;34m,\u001b[0m \u001b[0mstacktrace\u001b[0m\u001b[0;34m)\u001b[0m\u001b[0;34m\u001b[0m\u001b[0;34m\u001b[0m\u001b[0m\n\u001b[0m\u001b[1;32m    244\u001b[0m \u001b[0;34m\u001b[0m\u001b[0m\n\u001b[1;32m    245\u001b[0m     \u001b[0;32mdef\u001b[0m \u001b[0m_value_or_default\u001b[0m\u001b[0;34m(\u001b[0m\u001b[0mself\u001b[0m\u001b[0;34m,\u001b[0m \u001b[0mobj\u001b[0m\u001b[0;34m:\u001b[0m \u001b[0mMapping\u001b[0m\u001b[0;34m[\u001b[0m\u001b[0m_KT\u001b[0m\u001b[0;34m,\u001b[0m \u001b[0m_VT\u001b[0m\u001b[0;34m]\u001b[0m\u001b[0;34m,\u001b[0m \u001b[0mkey\u001b[0m\u001b[0;34m:\u001b[0m \u001b[0m_KT\u001b[0m\u001b[0;34m,\u001b[0m \u001b[0mdefault\u001b[0m\u001b[0;34m:\u001b[0m \u001b[0m_VT\u001b[0m\u001b[0;34m)\u001b[0m \u001b[0;34m->\u001b[0m \u001b[0m_VT\u001b[0m\u001b[0;34m:\u001b[0m\u001b[0;34m\u001b[0m\u001b[0;34m\u001b[0m\u001b[0m\n",
      "\u001b[0;31mNoSuchElementException\u001b[0m: Message: no such element: Unable to locate element: {\"method\":\"xpath\",\"selector\":\"//*[@id=\"searchCalendar\"]/div/div/ul/div/div/li[2]/div/table/tbody/tr[1]/td[6]/a\"}\n  (Session info: chrome=95.0.4638.54)\nStacktrace:\n0   chromedriver                        0x000000010bb4dc99 __gxx_personality_v0 + 579209\n1   chromedriver                        0x000000010bad95f3 __gxx_personality_v0 + 102371\n2   chromedriver                        0x000000010b69f288 chromedriver + 172680\n3   chromedriver                        0x000000010b6d425c chromedriver + 389724\n4   chromedriver                        0x000000010b706104 chromedriver + 594180\n5   chromedriver                        0x000000010b6f13cd chromedriver + 508877\n6   chromedriver                        0x000000010b703eab chromedriver + 585387\n7   chromedriver                        0x000000010b6f1693 chromedriver + 509587\n8   chromedriver                        0x000000010b6c7b7e chromedriver + 338814\n9   chromedriver                        0x000000010b6c8ea5 chromedriver + 343717\n10  chromedriver                        0x000000010bb0977f __gxx_personality_v0 + 299375\n11  chromedriver                        0x000000010bb2068a __gxx_personality_v0 + 393338\n12  chromedriver                        0x000000010bb268eb __gxx_personality_v0 + 418523\n13  chromedriver                        0x000000010bb21a2a __gxx_personality_v0 + 398362\n14  chromedriver                        0x000000010bafe34c __gxx_personality_v0 + 253244\n15  chromedriver                        0x000000010bb3dc48 __gxx_personality_v0 + 513592\n16  chromedriver                        0x000000010bb3ddd1 __gxx_personality_v0 + 513985\n17  chromedriver                        0x000000010bb550c8 __gxx_personality_v0 + 608952\n18  libsystem_pthread.dylib             0x00007fff7350d305 _pthread_body + 126\n19  libsystem_pthread.dylib             0x00007fff7351026f _pthread_start + 70\n20  libsystem_pthread.dylib             0x00007fff7350c415 thread_start + 13\n"
     ]
    }
   ],
   "source": [
    "# Seleniumを起動\n",
    "from urllib3.util import wait\n",
    "options = Options()\n",
    "options.add_argument('--disable-gpu')\n",
    "options.add_argument('--disable-extensions')\n",
    "options.add_argument('--proxy-server=\"direct://\"')\n",
    "options.add_argument('--proxy-bypass-list=*')\n",
    "options.add_argument('--start-maximized')\n",
    "\n",
    "driber_path = \"/usr/local/bin/chromedriver\"\n",
    "driver = webdriver.Chrome(executable_path=driber_path)\n",
    "login()\n",
    "\n",
    "\n",
    "'''\n",
    "driver.get(\"https://reserve.tokyodisneyresort.jp/ticket/search/?route=1\")\n",
    "check = buy_ticket()\n",
    "if check:\n",
    "    print(\"yeah\")\n",
    "\n",
    "'''\n",
    "while True:\n",
    "    try:\n",
    "        driver.get(\"https://reserve.tokyodisneyresort.jp/ticket/search/?route=1\")\n",
    "        check = buy_ticket()\n",
    "        if check:\n",
    "            break;\n",
    "    except:\n",
    "        time.sleep(3)\n",
    "        pass\n"
   ]
  },
  {
   "cell_type": "code",
   "execution_count": null,
   "id": "f2a1df2f",
   "metadata": {},
   "outputs": [],
   "source": []
  },
  {
   "cell_type": "code",
   "execution_count": null,
   "id": "defef5c4",
   "metadata": {},
   "outputs": [],
   "source": []
  },
  {
   "cell_type": "code",
   "execution_count": null,
   "id": "78e76d12",
   "metadata": {},
   "outputs": [],
   "source": []
  }
 ],
 "metadata": {
  "kernelspec": {
   "display_name": "Python 3 (ipykernel)",
   "language": "python",
   "name": "python3"
  },
  "language_info": {
   "codemirror_mode": {
    "name": "ipython",
    "version": 3
   },
   "file_extension": ".py",
   "mimetype": "text/x-python",
   "name": "python",
   "nbconvert_exporter": "python",
   "pygments_lexer": "ipython3",
   "version": "3.9.1"
  }
 },
 "nbformat": 4,
 "nbformat_minor": 5
}
